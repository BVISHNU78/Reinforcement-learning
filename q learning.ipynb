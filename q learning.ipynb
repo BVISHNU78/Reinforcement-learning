{
 "cells": [
  {
   "cell_type": "code",
   "execution_count": 145,
   "metadata": {},
   "outputs": [],
   "source": [
    "import numpy as np"
   ]
  },
  {
   "cell_type": "code",
   "execution_count": 146,
   "metadata": {},
   "outputs": [],
   "source": [
    "#define the states\n",
    "location_to_state = {\n",
    "    'L1':0,\n",
    "    'L2':1,\n",
    "    'L3':2,\n",
    "    'L4':3,\n",
    "    'L5':4,\n",
    "    'L6':5,\n",
    "    'L7':6,\n",
    "    'L8':7,\n",
    "    'L9':8\n",
    "}"
   ]
  },
  {
   "cell_type": "code",
   "execution_count": 147,
   "metadata": {},
   "outputs": [],
   "source": [
    "#Define actions\n",
    "actions = [0,1,2,3,4,5,6,7,8]"
   ]
  },
  {
   "cell_type": "code",
   "execution_count": 148,
   "metadata": {},
   "outputs": [],
   "source": [
    "rewards = np.array([[0,1,0,0,0,0,0,0,0],\n",
    "              [1,0,1,0,1,0,0,0,0],\n",
    "              [0,1,0,0,0,1,0,0,0],\n",
    "              [0,0,0,0,0,0,1,0,0],\n",
    "              [0,1,0,0,0,0,0,1,0],\n",
    "              [0,0,1,0,0,0,0,0,0],\n",
    "              [0,0,0,1,0,0,0,1,0],\n",
    "              [0,0,0,0,1,0,1,0,1],\n",
    "              [0,0,0,0,0,0,0,1,0]])\n"
   ]
  },
  {
   "cell_type": "code",
   "execution_count": 149,
   "metadata": {},
   "outputs": [],
   "source": [
    "state_to_location=dict((state,location)for location,state in location_to_state.items())\n",
    "gamma =0.75\n",
    "alpha =0.9"
   ]
  },
  {
   "cell_type": "code",
   "execution_count": 150,
   "metadata": {},
   "outputs": [],
   "source": [
    "Q=np.array(np.zeros([9,9]))"
   ]
  },
  {
   "cell_type": "code",
   "execution_count": 151,
   "metadata": {},
   "outputs": [],
   "source": [
    "rewards_copy = np.copy(rewards)"
   ]
  },
  {
   "cell_type": "code",
   "execution_count": 152,
   "metadata": {},
   "outputs": [],
   "source": [
    "class QAgent():\n",
    "    def __init__(self,alpha,gamma,location_to_state,actions,rewards,state_to_location,Q):\n",
    "        self.alpha=alpha\n",
    "        self.gamma=gamma\n",
    "        self.location_to_state=location_to_state\n",
    "        self.actions=actions\n",
    "        self.rewards=rewards\n",
    "        self.state_to_location=state_to_location\n",
    "        M=len(location_to_state)\n",
    "        self.Q=Q\n",
    "        self.Q=np.zeros((M,M),dtype=None,order = 'c')\n",
    "        \n",
    "        def training(self,start_location,end_location,iterations):\n",
    "            rewards_new = np.copy(self.rewards)\n",
    "            ending_state=self.location_to_state[end_location]\n",
    "            rewards_new[ending_state,ending_state] =999\n",
    "        #picking a random current state\n",
    "            for i in range(iterations):\n",
    "                current_state=np.random.randint(0,9)\n",
    "                playable_actions =[]\n",
    "            \n",
    "            for j in range(9):\n",
    "                if rewards_new[current_state,j]>0:\n",
    "                    playable_actions.append(j)\n",
    "                    \n",
    "                    next_state=np.random.choice(playable_actions)\n",
    "            \n",
    "            TD=rewards_new[current_state,next_state]+ \\\n",
    "                 self.gamma*self.Q[next_state,np.argmax(self.Q[next_state])]- self.Q[current_state,next_state]\n",
    "            self.Q[current_state,next_state]+=self.alpha * TD\n",
    "            \n",
    "            route =[start_location]\n",
    "            next_location=start_location\n",
    "            \n",
    "            self.get_optimal_route(start_location,end_location,next_location,route,self.Q)\n",
    "        def get__optimal__route(self,start_location,end_location,next_location,route,Q):\n",
    "            while(next_location !=end_location):\n",
    "                starting_state =self.location_to_state[start_location]\n",
    "                next_state = np.argmax(Q[starting_state,])\n",
    "                next_location = self.state_to_location[next_state]\n",
    "                route.append(next_location)\n",
    "                start.location = next_location\n",
    "            print(route)"
   ]
  },
  {
   "cell_type": "code",
   "execution_count": 153,
   "metadata": {
    "scrolled": true
   },
   "outputs": [
    {
     "ename": "AttributeError",
     "evalue": "'QAgent' object has no attribute 'training'",
     "output_type": "error",
     "traceback": [
      "\u001b[0;31m----------------------------------------------\u001b[0m",
      "\u001b[0;31mAttributeError\u001b[0mTraceback (most recent call last)",
      "\u001b[0;32m<ipython-input-153-e40f4ee9fcfb>\u001b[0m in \u001b[0;36m<module>\u001b[0;34m\u001b[0m\n\u001b[1;32m      1\u001b[0m \u001b[0mqagent\u001b[0m\u001b[0;34m=\u001b[0m\u001b[0mQAgent\u001b[0m\u001b[0;34m(\u001b[0m\u001b[0malpha\u001b[0m\u001b[0;34m,\u001b[0m \u001b[0mgamma\u001b[0m\u001b[0;34m,\u001b[0m \u001b[0mlocation_to_state\u001b[0m\u001b[0;34m,\u001b[0m \u001b[0mactions\u001b[0m\u001b[0;34m,\u001b[0m \u001b[0mrewards\u001b[0m\u001b[0;34m,\u001b[0m \u001b[0mstate_to_location\u001b[0m\u001b[0;34m,\u001b[0m \u001b[0mQ\u001b[0m\u001b[0;34m)\u001b[0m\u001b[0;34m\u001b[0m\u001b[0;34m\u001b[0m\u001b[0m\n\u001b[0;32m----> 2\u001b[0;31m \u001b[0mqagent\u001b[0m\u001b[0;34m.\u001b[0m\u001b[0mtraining\u001b[0m\u001b[0;34m(\u001b[0m\u001b[0;34m'L9'\u001b[0m\u001b[0;34m,\u001b[0m\u001b[0;34m'L1'\u001b[0m\u001b[0;34m,\u001b[0m\u001b[0;36m1000\u001b[0m\u001b[0;34m)\u001b[0m\u001b[0;34m\u001b[0m\u001b[0;34m\u001b[0m\u001b[0m\n\u001b[0m",
      "\u001b[0;31mAttributeError\u001b[0m: 'QAgent' object has no attribute 'training'"
     ]
    }
   ],
   "source": [
    "qagent=QAgent(alpha, gamma, location_to_state, actions, rewards, state_to_location, Q)\n",
    "qagent.training('L9','L1',1000)"
   ]
  }
 ],
 "metadata": {
  "kernelspec": {
   "display_name": "Python 3",
   "language": "python",
   "name": "python3"
  },
  "language_info": {
   "codemirror_mode": {
    "name": "ipython",
    "version": 3
   },
   "file_extension": ".py",
   "mimetype": "text/x-python",
   "name": "python",
   "nbconvert_exporter": "python",
   "pygments_lexer": "ipython3",
   "version": "3.8.5"
  }
 },
 "nbformat": 4,
 "nbformat_minor": 4
}
